{
 "cells": [
  {
   "cell_type": "code",
   "execution_count": 66,
   "metadata": {},
   "outputs": [],
   "source": [
    "import torch\n",
    "import numpy as np\n",
    "import importlib\n",
    "import src.pandamotiondataset as pdm\n",
    "import os\n",
    "\n",
    "BASE_PATH = '/media/mattias/73D136FD4E0A3586/datasets/panda_trajectories'"
   ]
  },
  {
   "cell_type": "code",
   "execution_count": 67,
   "metadata": {},
   "outputs": [],
   "source": [
    "importlib.reload(pdm)\n",
    "\n",
    "dataset = pdm.PandaMotionDataset(\n",
    "    [f'{BASE_PATH}/traj_0', f'{BASE_PATH}/traj_1', f'{BASE_PATH}/traj_2'],\n",
    "    [5, 15],\n",
    ")"
   ]
  },
  {
   "cell_type": "code",
   "execution_count": 68,
   "metadata": {},
   "outputs": [
    {
     "name": "stdout",
     "output_type": "stream",
     "text": [
      "5724\n",
      "(tensor([[ 0.4136, -1.2010,  0.1069, -2.2174, -2.6919,  3.1226,  1.0986],\n",
      "        [-3.6114,  0.1070, -2.1990, -0.0823, -0.0601, -0.1706,  0.1983]]), tensor([ 0.0004,  0.0016,  0.0740,  0.0036, -0.3005, -0.0005, -0.0116]), 0.37400000000002365) torch.Size([2, 7])\n"
     ]
    }
   ],
   "source": [
    "print(len(dataset))\n",
    "x, y = dataset[5]\n",
    "print(x, y.shape)"
   ]
  },
  {
   "cell_type": "code",
   "execution_count": 69,
   "metadata": {},
   "outputs": [],
   "source": [
    "dataloader = pdm.get_dataloader(\n",
    "    [f'{BASE_PATH}/traj_0', f'{BASE_PATH}/traj_1', f'{BASE_PATH}/traj_2'],\n",
    "    [5, 15],\n",
    "    64,\n",
    ")"
   ]
  },
  {
   "cell_type": "code",
   "execution_count": 74,
   "metadata": {},
   "outputs": [
    {
     "name": "stdout",
     "output_type": "stream",
     "text": [
      "torch.Size([64])\n"
     ]
    }
   ],
   "source": [
    "for x, y in dataloader:\n",
    "    print(x[2].shape)\n",
    "    break"
   ]
  },
  {
   "cell_type": "code",
   "execution_count": null,
   "metadata": {},
   "outputs": [],
   "source": [
    "y = torch.randn((2, 7))\n",
    "y_hat = torch.randn((2, 7))"
   ]
  },
  {
   "cell_type": "code",
   "execution_count": null,
   "metadata": {},
   "outputs": [],
   "source": []
  }
 ],
 "metadata": {
  "kernelspec": {
   "display_name": "Python 3",
   "language": "python",
   "name": "python3"
  },
  "language_info": {
   "codemirror_mode": {
    "name": "ipython",
    "version": 3
   },
   "file_extension": ".py",
   "mimetype": "text/x-python",
   "name": "python",
   "nbconvert_exporter": "python",
   "pygments_lexer": "ipython3",
   "version": "3.10.12"
  }
 },
 "nbformat": 4,
 "nbformat_minor": 2
}
